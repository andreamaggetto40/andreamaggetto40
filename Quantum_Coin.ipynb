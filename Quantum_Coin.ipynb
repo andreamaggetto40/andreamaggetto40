{
  "cells": [
    {
      "cell_type": "markdown",
      "metadata": {
        "id": "view-in-github",
        "colab_type": "text"
      },
      "source": [
        "<a href=\"https://colab.research.google.com/github/andreamaggetto40/andreamaggetto40/blob/main/Quantum_Coin.ipynb\" target=\"_parent\"><img src=\"https://colab.research.google.com/assets/colab-badge.svg\" alt=\"Open In Colab\"/></a>"
      ]
    },
    {
      "cell_type": "markdown",
      "metadata": {
        "id": "VbBYLVJQ1jsP"
      },
      "source": [
        "#Quantum Coin Simulator – Project Overview\n",
        "\n",
        "This project is a simple yet meaningful simulation aimed at introducing the concept of **quantum superposition** through the metaphor of a coin toss.\n",
        "\n",
        "In classical mechanics, tossing a coin yields either *heads* or *tails*, with a 50% chance for each. However, in **quantum mechanics**, a system can exist in a **superposition** of both states until a **measurement** collapses it into one.\n",
        "\n",
        "---\n",
        "\n",
        "##Objective\n",
        "\n",
        "Our goal is to simulate the behavior of a quantum coin — a qubit — and visualize the probabilistic nature of its outcomes after repeated measurements.\n",
        "\n",
        "We model the quantum coin's state as:\n",
        "\n",
        "$$\n",
        "|\\psi\\rangle = \\alpha |0\\rangle + \\beta |1\\rangle\n",
        "$$\n",
        "\n",
        "where:\n",
        "\n",
        "- $|0\\rangle$ corresponds to *heads*  \n",
        "- $|1\\rangle$ corresponds to *tails*  \n",
        "- $|\\alpha|^2$ and $|\\beta|^2$ are the probabilities of measuring heads and tails respectively, and they always satisfy (By the definition itself of probability):\n",
        "\n",
        "$$\n",
        "|\\alpha|^2 + |\\beta|^2 = 1\n",
        "$$\n",
        "\n",
        "---\n",
        "\n",
        "##Methodology\n",
        "\n",
        "In this notebook, we:\n",
        "\n",
        "1. Generate a quantum state by randomly assigning values to $|\\alpha|$ and $|\\beta|$ , following the Bloch sphere representation.\n",
        "2. Perform **n = 100** measurements to simulate the coin tosses.\n",
        "3. Visualize the empirical probability distribution using histograms and density plots.\n",
        "\n",
        "---\n",
        "\n",
        "##Purpose\n",
        "\n",
        "This project bridges **quantum theory** and **interactive coding**, aiming to make abstract principles more tangible through code and data visualization.\n"
      ]
    },
    {
      "cell_type": "code",
      "source": [
        "!pip install gradio qutip --quiet"
      ],
      "metadata": {
        "id": "bWrxnKrZISub"
      },
      "execution_count": null,
      "outputs": []
    },
    {
      "cell_type": "code",
      "execution_count": null,
      "metadata": {
        "id": "PyeL3M9HH8Xk"
      },
      "outputs": [],
      "source": [
        "import gradio as gr\n",
        "import numpy as np\n",
        "import matplotlib.pyplot as plt\n",
        "from scipy.stats import norm\n",
        "import random\n",
        "from qutip import Bloch\n",
        "import tempfile"
      ]
    },
    {
      "cell_type": "code",
      "execution_count": null,
      "metadata": {
        "id": "6E6ePEpHIeL2"
      },
      "outputs": [],
      "source": [
        "# Alfa and Beta values, normalized\n",
        "def generate_superposition():\n",
        "    alpha = np.random.rand() + 1j * np.random.rand()\n",
        "    beta = np.random.rand() + 1j * np.random.rand()\n",
        "    norm_val = np.sqrt(np.abs(alpha)**2 + np.abs(beta)**2)\n",
        "    alpha /= norm_val\n",
        "    beta /= norm_val\n",
        "    return alpha, beta\n",
        "\n",
        "# Main Function\n",
        "def simulate(tosses):\n",
        "    alpha, beta = generate_superposition()\n",
        "    head_prob = np.abs(alpha)**2\n",
        "    tail_prob = np.abs(beta)**2\n",
        "\n",
        "    results = ['Head' if random.random() < head_prob else 'Tail' for _ in range(tosses)]\n",
        "    head_count = results.count('Head')\n",
        "    tail_count = results.count('Tail')\n",
        "\n",
        "    # 1. Probability Distribution Plot\n",
        "    fig, ax = plt.subplots()\n",
        "    ax.bar([\"Head\", \"Tail\"], [head_count, tail_count], color=[\"blue\", \"red\"], alpha=0.6)\n",
        "    x = np.linspace(0, tosses, 1000)\n",
        "    mu = tosses * head_prob\n",
        "    sigma = np.sqrt(tosses * head_prob * tail_prob)\n",
        "    y = norm.pdf(x, mu, sigma)\n",
        "    y_scaled = y * tosses / max(y)\n",
        "    ax.plot(x, y_scaled, 'g--', label=\"Theoretical Gaussian\")\n",
        "    ax.set_title(\"Quantum Coin Toss Results\")\n",
        "    ax.set_ylabel(\"Count\")\n",
        "    ax.legend()\n",
        "\n",
        "    # 2. Bloch Sphere\n",
        "    psi = np.array([alpha, beta])\n",
        "    bloch_vector = [2*np.real(np.conj(psi[0])*psi[1]),\n",
        "                    2*np.imag(np.conj(psi[0])*psi[1]),\n",
        "                    np.abs(psi[0])**2 - np.abs(psi[1])**2]\n",
        "\n",
        "    b = Bloch()\n",
        "    b.add_vectors(bloch_vector)\n",
        "    with tempfile.NamedTemporaryFile(suffix=\".png\", delete=False) as tmpfile:\n",
        "        b.save(tmpfile.name)\n",
        "        bloch_path = tmpfile.name\n",
        "\n",
        "    # 3. Text Output\n",
        "    alpha_str = f\"α = {alpha.real:.3f} + {alpha.imag:.3f}i\"\n",
        "    beta_str = f\"β = {beta.real:.3f} + {beta.imag:.3f}i\"\n",
        "    ket_str = f\"|ψ⟩ = ({alpha.real:.2f} + {alpha.imag:.2f}i)|0⟩ + ({beta.real:.2f} + {beta.imag:.2f}i)|1⟩\"\n",
        "    probs_str = f\"Head Probability = {head_prob:.2%}, Tail Probability = {tail_prob:.2%}\"\n",
        "\n",
        "    return fig, bloch_path, f\"{alpha_str}\\n{beta_str}\", ket_str, probs_str"
      ]
    },
    {
      "cell_type": "code",
      "source": [
        "#Gradio Interface\n",
        "demo = gr.Interface(\n",
        "    fn=simulate,\n",
        "    inputs=gr.Slider(10, 1000, value=100, label=\"Number of Tosses\"),\n",
        "    outputs=[\n",
        "        gr.Plot(label=\"Toss Result Distribution\"),\n",
        "        gr.Image(type=\"filepath\", label=\"Bloch Sphere\"),\n",
        "        gr.Text(label=\"α and β amplitudes\"),\n",
        "        gr.Text(label=\"State Vector |ψ⟩\"),\n",
        "        gr.Text(label=\"Probabilities (%)\"),\n",
        "    ],\n",
        "    title=\"Quantum Coin Toss Simulator\",\n",
        "    description=\"Simulates a qubit in superposition (α|0⟩ + β|1⟩), visualizes measurement outcomes and Bloch sphere.\"\n",
        ")\n",
        "\n",
        "demo.launch()\n"
      ],
      "metadata": {
        "colab": {
          "base_uri": "https://localhost:8080/",
          "height": 630
        },
        "id": "HkMMEMTxLpzt",
        "outputId": "8cde06f1-670f-4f4a-9ada-0ae021283cba"
      },
      "execution_count": null,
      "outputs": [
        {
          "output_type": "stream",
          "name": "stdout",
          "text": [
            "Running Gradio in a Colab notebook requires sharing enabled. Automatically setting `share=True` (you can turn this off by setting `share=False` in `launch()` explicitly).\n",
            "\n",
            "Colab notebook detected. To show errors in colab notebook, set debug=True in launch()\n",
            "* Running on public URL: https://f1c0d06b5255457145.gradio.live\n",
            "\n",
            "This share link expires in 72 hours. For free permanent hosting and GPU upgrades, run `gradio deploy` from the terminal in the working directory to deploy to Hugging Face Spaces (https://huggingface.co/spaces)\n"
          ]
        },
        {
          "output_type": "display_data",
          "data": {
            "text/plain": [
              "<IPython.core.display.HTML object>"
            ],
            "text/html": [
              "<div><iframe src=\"https://f1c0d06b5255457145.gradio.live\" width=\"100%\" height=\"500\" allow=\"autoplay; camera; microphone; clipboard-read; clipboard-write;\" frameborder=\"0\" allowfullscreen></iframe></div>"
            ]
          },
          "metadata": {}
        },
        {
          "output_type": "execute_result",
          "data": {
            "text/plain": []
          },
          "metadata": {},
          "execution_count": 37
        }
      ]
    },
    {
      "cell_type": "markdown",
      "metadata": {
        "id": "-ZnRHjloQ-W1"
      },
      "source": []
    }
  ],
  "metadata": {
    "colab": {
      "provenance": [],
      "authorship_tag": "ABX9TyPyhuA76O6R3v13AOD+vLAh",
      "include_colab_link": true
    },
    "kernelspec": {
      "display_name": "Python 3",
      "name": "python3"
    },
    "language_info": {
      "name": "python"
    }
  },
  "nbformat": 4,
  "nbformat_minor": 0
}